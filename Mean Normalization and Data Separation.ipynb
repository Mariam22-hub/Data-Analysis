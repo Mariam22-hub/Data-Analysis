{
 "cells": [
  {
   "cell_type": "markdown",
   "metadata": {},
   "source": [
    "# Mean Normalization\n",
    "\n",
    "In machine learning we use large amounts of data to train our models. Some machine learning algorithms may require that the data is *normalized* in order to work correctly. The idea of normalization, also known as *feature scaling*, is to ensure that all the data is on a similar scale, *i.e.* that all the data takes on a similar range of values. For example, we might have a dataset that has values between 0 and 5,000. By normalizing the data we can make the range of values be between 0 and 1.\n",
    "\n",
    "In this lab, you will be performing a different kind of feature scaling known as *mean normalization*. Mean normalization will scale the data, but instead of making the values be between 0 and 1, it will distribute the values evenly in some small interval around zero. For example, if we have a dataset that has values between 0 and 5,000, after mean normalization the range of values will be distributed in some small range around 0, for example between -3 to 3. Because the range of values are distributed evenly around zero, this guarantees that the average (mean) of all elements will be zero. Therefore, when you perform *mean normalization* your data will not only be scaled but it will also have an average of zero. \n",
    "\n",
    "# To Do:\n",
    "\n",
    "You will start by importing NumPy and creating a rank 2 ndarray of random integers between 0 and 5,000 (inclusive) with 1000 rows and 20 columns. This array will simulate a dataset with a wide range of values. Fill in the code below"
   ]
  },
  {
   "cell_type": "code",
   "execution_count": 1,
   "metadata": {},
   "outputs": [],
   "source": [
    "import pandas as pd\n",
    "import numpy as np"
   ]
  },
  {
   "cell_type": "code",
   "execution_count": 63,
   "metadata": {},
   "outputs": [
    {
     "data": {
      "text/plain": [
       "(1000, 20)"
      ]
     },
     "execution_count": 63,
     "metadata": {},
     "output_type": "execute_result"
    }
   ],
   "source": [
    "# import NumPy into Python\n",
    "\n",
    "\n",
    "# Create a 1000 x 20 ndarray with random integers in the half-open interval [0, 5001).\n",
    "X = np.random.randint(1,5001, size = (1000,20))\n",
    "X\n",
    "\n",
    "# print the shape of X\n",
    "np.shape(X)\n"
   ]
  },
  {
   "attachments": {},
   "cell_type": "markdown",
   "metadata": {},
   "source": [
    "Now that you created the array we will mean normalize it. We will perform mean normalization using the following equation:\n",
    "\n",
    "\n",
    "where is the $i$th column of column of $X$, and $\\sigma_i$ is the standard deviation of the values in the $i$th column of $X$. In other words, mean normalization is performed by subtracting from each column of $X$ the average of its values, and then by dividing by the standard deviation of its values. In the space below, you will first calculate the average and standard deviation of each column of $X$. "
   ]
  },
  {
   "cell_type": "code",
   "execution_count": 64,
   "metadata": {},
   "outputs": [],
   "source": [
    "# Average of the values in each column of X\n",
    "ave_cols = np.mean(X, axis=0)\n",
    "\n",
    "# Standard Deviation of the values in each column of X\n",
    "std_cols = np.std(X, axis=0)\n"
   ]
  },
  {
   "cell_type": "markdown",
   "metadata": {},
   "source": [
    "If you have done the above calculations correctly, then `ave_cols` and `std_cols`, should both be vectors with shape `(20,)` since $X$ has 20 columns. You can verify this by filling the code below:"
   ]
  },
  {
   "cell_type": "code",
   "execution_count": 65,
   "metadata": {},
   "outputs": [
    {
     "data": {
      "text/plain": [
       "(20,)"
      ]
     },
     "execution_count": 65,
     "metadata": {},
     "output_type": "execute_result"
    }
   ],
   "source": [
    "# Print the shape of ave_cols\n",
    "np.shape(ave_cols)\n",
    "\n",
    "# Print the shape of std_cols\n",
    "np.shape(std_cols)"
   ]
  },
  {
   "cell_type": "markdown",
   "metadata": {},
   "source": [
    "You can now take advantage of Broadcasting to calculate the mean normalized version of $X$ in just one line of code using the equation above. Fill in the code below"
   ]
  },
  {
   "cell_type": "code",
   "execution_count": 37,
   "metadata": {},
   "outputs": [
    {
     "data": {
      "text/plain": [
       "array([[-1.43400032,  0.17440319,  1.38757987, ...,  1.48366258,\n",
       "         0.97876688,  0.20804277],\n",
       "       [ 0.28277966, -0.4260749 ,  0.60027945, ...,  0.55804472,\n",
       "        -0.16179818, -1.08305383],\n",
       "       [-0.14521503, -0.0901431 , -0.40485944, ..., -0.95911266,\n",
       "        -1.49737859, -1.04054295],\n",
       "       ...,\n",
       "       [ 1.00021948, -0.00825972,  1.40088833, ..., -0.68853682,\n",
       "        -0.84778524,  0.76068422],\n",
       "       [ 1.25125482, -0.45056993,  1.22297525, ..., -1.74184991,\n",
       "         1.58441311, -1.24006983],\n",
       "       [ 0.5591929 , -1.47026292,  0.93159004, ...,  0.22120541,\n",
       "        -1.04005388,  0.33146145]])"
      ]
     },
     "execution_count": 37,
     "metadata": {},
     "output_type": "execute_result"
    }
   ],
   "source": [
    "# Mean normalize X\n",
    "X_norm = (X - ave_cols) / std_cols\n",
    "X_norm"
   ]
  },
  {
   "attachments": {},
   "cell_type": "markdown",
   "metadata": {},
   "source": [
    "If you have performed the mean normalization correctly, then the average of all the elements in should be close to zero, and they should be evenly distributed in some small interval around zero. You can verify this by filing the code below:"
   ]
  },
  {
   "cell_type": "code",
   "execution_count": 66,
   "metadata": {},
   "outputs": [
    {
     "name": "stdout",
     "output_type": "stream",
     "text": [
      "-1.0302869668521452e-17\n",
      "-1.7313218935173105\n",
      "1.7282709493675985\n"
     ]
    }
   ],
   "source": [
    "# Print the average of all the values of X_norm\n",
    "print(np.mean(X_norm))\n",
    "\n",
    "# Print the average of the minimum value in each column of X_norm\n",
    "m = np.min(X_norm, axis=0)\n",
    "print(np.mean(m))\n",
    "\n",
    "# Print the average of the maximum value in each column of X_norm\n",
    "m2 = np.max(X_norm, axis=0)\n",
    "print(np.mean(m2))"
   ]
  },
  {
   "cell_type": "markdown",
   "metadata": {},
   "source": [
    "You should note that since $X$ was created using random integers, the above values will vary. \n",
    "\n",
    "# Data Separation\n",
    "\n",
    "After the data has been mean normalized, it is customary in machine learnig to split our dataset into three sets:\n",
    "\n",
    "1. A Training Set\n",
    "2. A Cross Validation Set\n",
    "3. A Test Set\n",
    "\n",
    "The dataset is usually divided such that the Training Set contains 60% of the data, the Cross Validation Set contains 20% of the data, and the Test Set contains 20% of the data. \n",
    "\n",
    "In this part of the lab you will separate `X_norm` into a Training Set, Cross Validation Set, and a Test Set. Each data set will contain rows of `X_norm` chosen at random, making sure that we don't pick the same row twice. This will guarantee that all the rows of `X_norm` are chosen and randomly distributed among the three new sets.\n",
    "\n",
    "You will start by creating a rank 1 ndarray that contains a random permutation of the row indices of `X_norm`. You can do this by using the `np.random.permutation()` function. The `np.random.permutation(N)` function creates a random permutation of integers from 0 to `N - 1`. Let's see an example:"
   ]
  },
  {
   "cell_type": "code",
   "execution_count": null,
   "metadata": {},
   "outputs": [],
   "source": [
    "# We create a random permutation of integers 0 to 4\n",
    "np.random.permutation(5)"
   ]
  },
  {
   "cell_type": "markdown",
   "metadata": {},
   "source": [
    "# To Do\n",
    "\n",
    "In the space below create a rank 1 ndarray that contains a random permutation of the row indices of `X_norm`. You can do this in one line of code by extracting the number of rows of `X_norm` using the `shape` attribute and then passing it to the  `np.random.permutation()` function. Remember the `shape` attribute returns a tuple with two numbers in the form `(rows,columns)`."
   ]
  },
  {
   "cell_type": "code",
   "execution_count": 67,
   "metadata": {},
   "outputs": [
    {
     "data": {
      "text/plain": [
       "array([889, 449, 731, 708, 334, 769, 676, 520, 566, 548, 808,  81,   1,\n",
       "       578, 524, 662, 482, 382, 763, 937, 719, 678, 636, 186, 496, 278,\n",
       "       172, 511, 364, 529,  29, 484, 746, 542, 846, 166, 196, 557, 202,\n",
       "       760, 223, 723, 882, 113, 706, 562, 563, 336, 997, 856, 160, 623,\n",
       "       102, 408, 572, 140, 475, 169, 870, 652, 229, 341, 530, 765, 406,\n",
       "       886, 821, 978, 471, 965, 315, 319, 138, 672, 954, 249, 785, 361,\n",
       "       647, 420, 353, 710, 655,  20, 926, 543, 359, 809,  26, 916, 935,\n",
       "       271, 256, 286, 576, 836, 307,  17,  39, 547, 173, 902, 352, 298,\n",
       "       410,   6, 998,  78, 366, 987, 818, 577, 927, 342, 701, 476, 914,\n",
       "       373,  60, 141, 874, 269,  18, 582, 143, 325, 969,  79, 497,   7,\n",
       "       906, 739, 405, 355, 985, 154, 504, 992, 679, 698,  46, 347, 103,\n",
       "       523, 718, 659,  99, 618, 986, 790, 463, 188, 232, 754, 596, 717,\n",
       "       725, 973, 237, 968, 778, 531, 689, 363, 938,  93, 975, 267, 600,\n",
       "        49, 360, 300,   8, 380, 254, 925, 833, 756, 179, 291, 467, 854,\n",
       "        84, 917, 385, 318, 663,  53, 621, 592, 246, 177, 546, 732, 941,\n",
       "       610, 469, 433, 397, 514, 536,  72, 486, 345, 991, 212, 258, 579,\n",
       "       493,  14, 581, 815,  59, 724, 634, 394, 762, 904, 782,  27, 629,\n",
       "       324, 837,  98, 107, 709,  85,  16, 593, 945, 152, 227, 100, 688,\n",
       "        52, 377, 326, 814, 878, 375, 619, 537, 535, 690, 121, 187, 650,\n",
       "       683,  24, 934, 183, 374, 847, 976, 793, 940, 962, 735, 507, 163,\n",
       "       245, 930, 974,  30, 849, 532, 112, 644, 622, 142, 835, 615, 783,\n",
       "       853, 452, 881, 316,  55, 624, 627, 649, 395,  12, 277,  76, 534,\n",
       "       182, 436, 792, 682, 164, 358, 721, 781, 147, 666, 440, 155, 328,\n",
       "       502, 819, 105, 551, 680, 495, 144, 226, 929,  67, 104, 541, 996,\n",
       "         2, 137, 428, 139, 506, 304, 955, 777, 157, 860, 273, 109, 466,\n",
       "       943,  94, 740, 989, 305, 357,  88, 205, 736, 614, 963, 539, 472,\n",
       "       957, 194, 726, 255, 376, 799, 797, 705, 684, 247, 901, 597, 261,\n",
       "       703, 419, 995, 459, 498, 628,  75, 832, 653, 168, 742,  23, 106,\n",
       "       603, 643, 189, 775,  45, 330, 806, 715, 423, 620,  31, 789,  35,\n",
       "       559, 510, 146, 939, 982, 839, 487, 451, 378, 356, 693, 429,   9,\n",
       "       802, 801, 864, 473, 491, 865, 631,  82, 322, 381, 425, 207, 545,\n",
       "        15, 464, 858, 695,  40, 503, 599, 589, 279, 827, 165, 560, 241,\n",
       "       485, 604, 999, 711, 500, 302, 438, 156, 911, 828, 365, 933, 953,\n",
       "       411, 129,  61,  66, 170, 288, 396, 639,  25, 850, 515, 590, 608,\n",
       "       184,  13, 294, 826, 877, 198, 704, 694, 158, 555, 879, 538, 691,\n",
       "       588, 398, 598, 434,   0, 519, 239, 664,  83,  92,  87, 823, 813,\n",
       "       633, 171, 984, 616, 115, 490, 829, 310, 250, 908,  71, 928, 133,\n",
       "       234,  80, 338, 794, 625,  74, 556, 591, 235, 409, 295, 862, 825,\n",
       "       301,  91, 770, 215, 525, 206, 609, 573, 890, 386, 791, 390, 648,\n",
       "        42, 455, 772, 321, 447,  89, 274, 414, 605, 193, 892, 641, 737,\n",
       "       583, 131, 685, 880,  37, 111, 674, 687, 259, 461, 413,  34, 251,\n",
       "       857, 993, 804, 264,  86, 936, 132, 458, 734, 225, 501, 567, 528,\n",
       "       851,  65, 293, 161, 236, 110, 745, 512, 151, 798, 948, 626, 670,\n",
       "       951, 907, 521, 444, 630, 834, 696, 947, 214, 308, 971, 981, 197,\n",
       "       868, 961, 587, 244, 329, 840, 176, 162, 894, 350,  73, 637, 263,\n",
       "       391, 282, 844, 178, 830, 257, 190, 656,  43, 224, 477, 667, 540,\n",
       "       388, 488, 767, 218, 483, 780,  33, 508,  48, 418, 362, 910, 845,\n",
       "       407, 699, 749, 114, 292, 474, 565, 513, 700, 983, 651, 866, 923,\n",
       "       311, 238, 312, 952, 417, 544, 800,  51, 885, 509,  62, 822, 970,\n",
       "       838, 270, 900, 863, 980, 812, 231, 468, 284, 903, 661, 505, 967,\n",
       "       658, 893, 200, 340, 779, 707, 371, 439, 932, 657, 949,   3, 260,\n",
       "       915, 869, 640, 843, 671, 612, 552, 569, 564,  41, 145, 602, 108,\n",
       "       456, 526, 733, 554, 697, 174, 159, 289, 317, 149, 768, 517, 253,\n",
       "       126, 956, 632, 810, 399, 924, 638, 118, 299, 660, 895, 668, 262,\n",
       "       743, 867, 348, 950, 665, 887, 820, 913, 192, 896, 120, 290, 899,\n",
       "       101, 773, 784, 803, 558,  63,  22, 570, 426, 920, 275, 195, 346,\n",
       "       392, 774, 755, 489, 516, 811, 741, 918, 243, 450, 673, 248, 654,\n",
       "       897, 393, 909, 303, 453, 712, 404, 585, 130, 481, 403, 175, 441,\n",
       "       568, 332, 758, 750,  96, 898, 400, 824, 401, 445, 180, 584, 942,\n",
       "        56, 335, 252, 479, 480, 127, 424, 213, 240, 343, 287, 580, 276,\n",
       "        47,  97, 912, 607, 575, 320, 730, 574, 117, 527, 720, 370, 272,\n",
       "       379, 714, 681, 884, 349, 446, 416, 561, 713, 549, 766, 209, 228,\n",
       "       595, 499, 994, 751, 462,  44, 748, 859, 199, 369, 645, 437, 752,\n",
       "        69, 855, 550, 891, 611, 314, 990,  58, 522, 692, 669, 728, 454,\n",
       "       210, 339, 635, 465, 296,  77, 280, 852, 817,  54,  19, 372, 344,\n",
       "       281, 873, 333, 716, 442, 230, 807, 402,   4, 313, 421, 443, 309,\n",
       "       841, 722, 642, 219, 136, 871,  38, 958, 427, 972, 617, 191, 796,\n",
       "       387, 786, 389, 185, 327, 204, 594, 922, 431, 430, 123, 753, 220,\n",
       "       872,  50, 383, 960, 470,  10, 216, 757, 153, 675, 931, 268, 977,\n",
       "       831, 805, 201,   5, 233, 888, 208, 979, 966, 368, 217, 744, 448,\n",
       "       761, 354, 964, 167,  28, 412, 921, 478, 351, 135, 265, 222, 959,\n",
       "       124, 331, 134, 518, 606, 116, 203, 148, 435, 242, 125, 848,  90,\n",
       "        32, 494, 905, 323, 686, 457,  57, 297, 119, 876, 771, 122,  68,\n",
       "       283, 988,  70, 738,  11, 553, 787, 875, 677, 946, 285, 883, 221,\n",
       "       586, 729, 415, 919, 181, 759, 571, 337, 842, 367, 384, 533, 492,\n",
       "        36, 422, 646, 747, 944, 727, 128, 460, 816, 702, 266, 795, 306,\n",
       "       613, 788,  21, 601,  64, 211, 776, 861, 764, 150,  95, 432])"
      ]
     },
     "execution_count": 67,
     "metadata": {},
     "output_type": "execute_result"
    }
   ],
   "source": [
    "# Create a rank 1 ndarray that contains a random permutation of the row indices of `X_norm`\n",
    "rows = np.shape(X_norm)[0]\n",
    "row_indices = np.random.permutation(rows)\n",
    "# row_indices = np.random.permutation(X_norm.shape[0])\n",
    "row_indices"
   ]
  },
  {
   "cell_type": "markdown",
   "metadata": {},
   "source": [
    "Now you can create the three datasets using the `row_indices` ndarray to select the rows that will go into each dataset. Rememeber that the Training Set contains 60% of the data, the Cross Validation Set contains 20% of the data, and the Test Set contains 20% of the data. Each set requires just one line of code to create. Fill in the code below"
   ]
  },
  {
   "cell_type": "code",
   "execution_count": 68,
   "metadata": {},
   "outputs": [],
   "source": [
    "# Make any necessary calculations.\n",
    "# You can save your calculations into variables to use later.\n",
    "\n",
    "sixty = int(len(X_norm) * 0.6)\n",
    "eighty = int(len(X_norm) * 0.8)\n",
    "\n",
    "# Create a Training Set\n",
    "X_train = X_norm[row_indices[:sixty], : ]\n",
    "\n",
    "# Create a Cross Validation Set\n",
    "X_crossVal = X_norm[row_indices[sixty:eighty], : ]\n",
    "\n",
    "# Create a Test Set\n",
    "X_test = X_norm[row_indices[eighty: ], :]"
   ]
  },
  {
   "cell_type": "markdown",
   "metadata": {},
   "source": [
    "If you performed the above calculations correctly, then `X_tain` should have 600 rows and 20 columns, `X_crossVal` should have 200 rows and 20 columns, and `X_test` should have 200 rows and 20 columns. You can verify this by filling the code below:"
   ]
  },
  {
   "cell_type": "code",
   "execution_count": 71,
   "metadata": {},
   "outputs": [
    {
     "name": "stdout",
     "output_type": "stream",
     "text": [
      "(600, 20)\n",
      "(200, 20)\n",
      "(200, 20)\n"
     ]
    }
   ],
   "source": [
    "# Print the shape of X_train\n",
    "print(np.shape(X_train))\n",
    "\n",
    "# Print the shape of X_crossVal\n",
    "print(np.shape(X_test))\n",
    "\n",
    "# Print the shape of X_test\n",
    "print(np.shape(X_crossVal))\n"
   ]
  }
 ],
 "metadata": {
  "kernelspec": {
   "display_name": "base",
   "language": "python",
   "name": "python3"
  },
  "language_info": {
   "codemirror_mode": {
    "name": "ipython",
    "version": 3
   },
   "file_extension": ".py",
   "mimetype": "text/x-python",
   "name": "python",
   "nbconvert_exporter": "python",
   "pygments_lexer": "ipython3",
   "version": "3.9.12"
  },
  "vscode": {
   "interpreter": {
    "hash": "91bb753b057673435fb8d6f6a083e6c818364728098c7ae050ca3a25357dd754"
   }
  }
 },
 "nbformat": 4,
 "nbformat_minor": 2
}
